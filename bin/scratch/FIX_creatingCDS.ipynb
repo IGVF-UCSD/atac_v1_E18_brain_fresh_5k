{
 "cells": [
  {
   "attachments": {},
   "cell_type": "markdown",
   "metadata": {},
   "source": [
    "# FIX: Reading data into CellOracle pipeline"
   ]
  },
  {
   "attachments": {},
   "cell_type": "markdown",
   "metadata": {},
   "source": [
    "**Authorship:**\n",
    "Adam Klie\n",
    "***\n",
    "**Description:**\n",
    "\n",
    "***"
   ]
  },
  {
   "attachments": {},
   "cell_type": "markdown",
   "metadata": {},
   "source": [
    "# Set-up"
   ]
  },
  {
   "cell_type": "code",
   "execution_count": 1,
   "metadata": {
    "vscode": {
     "languageId": "r"
    }
   },
   "outputs": [
    {
     "name": "stderr",
     "output_type": "stream",
     "text": [
      "Warning message:\n",
      "“package ‘monocle3’ was built under R version 4.2.1”\n",
      "Warning message:\n",
      "“package ‘Biobase’ was built under R version 4.2.3”\n",
      "Warning message:\n",
      "“package ‘BiocGenerics’ was built under R version 4.2.1”\n",
      "Warning message:\n",
      "“package ‘Biobase’ was built under R version 4.2.3”\n",
      "Warning message:\n",
      "“package ‘BiocGenerics’ was built under R version 4.2.1”\n",
      "Warning message:\n",
      "“package ‘SingleCellExperiment’ was built under R version 4.2.2”\n",
      "Warning message:\n",
      "“package ‘SummarizedExperiment’ was built under R version 4.2.2”\n",
      "Warning message:\n",
      "“package ‘MatrixGenerics’ was built under R version 4.2.1”\n",
      "Warning message:\n",
      "“package ‘matrixStats’ was built under R version 4.2.3”\n",
      "Warning message:\n",
      "“package ‘GenomicRanges’ was built under R version 4.2.3”\n",
      "Warning message:\n",
      "“package ‘S4Vectors’ was built under R version 4.2.3”\n",
      "Warning message:\n",
      "“package ‘IRanges’ was built under R version 4.2.3”\n",
      "Warning message:\n",
      "“package ‘GenomeInfoDb’ was built under R version 4.2.3”\n",
      "Warning message:\n",
      "“package ‘Gviz’ was built under R version 4.2.2”\n",
      "Warning message:\n",
      "\"package 'rhdf5' was built under R version 4.2.2\"\n"
     ]
    }
   ],
   "source": [
    "# Libraries\n",
    "suppressMessages(library(cicero))\n",
    "suppressMessages(library(monocle3))\n",
    "suppressMessages(library(rhdf5))"
   ]
  },
  {
   "cell_type": "code",
   "execution_count": 2,
   "metadata": {
    "vscode": {
     "languageId": "r"
    }
   },
   "outputs": [],
   "source": [
    "# Paths\n",
    "path_data = \"/cellar/users/aklie/data/datasets/atac_v1_E18_brain_fresh_5k/analysis/celloracle/mdata.h5mu\""
   ]
  },
  {
   "cell_type": "code",
   "execution_count": 3,
   "metadata": {
    "vscode": {
     "languageId": "r"
    }
   },
   "outputs": [],
   "source": [
    "# Process mudata\n",
    "indata <- H5Fopen(path_data)\n",
    "indices <- indata$mod$atac$layers$counts$indices\n",
    "indptr <- indata$mod$atac$layers$counts$indptr\n",
    "data <- as.numeric(indata$mod$atac$layers$counts$data)\n",
    "barcodes <- indata$mod$atac$obs$`_index`\n",
    "peaks <- indata$mod$atac$var$`_index`\n",
    "h5closeAll()"
   ]
  },
  {
   "cell_type": "code",
   "execution_count": 4,
   "metadata": {
    "vscode": {
     "languageId": "r"
    }
   },
   "outputs": [
    {
     "data": {
      "text/plain": [
       "NULL"
      ]
     },
     "metadata": {},
     "output_type": "display_data"
    }
   ],
   "source": [
    "barcodes"
   ]
  },
  {
   "cell_type": "code",
   "execution_count": 9,
   "metadata": {
    "vscode": {
     "languageId": "r"
    }
   },
   "outputs": [],
   "source": [
    "# Build sparse matrix and binarize\n",
    "indata <- Matrix::sparseMatrix(i=indices, p=indptr, x=data, index1 = FALSE)\n",
    "indata@x[indata@x > 0] <- 1"
   ]
  },
  {
   "cell_type": "code",
   "execution_count": 10,
   "metadata": {
    "vscode": {
     "languageId": "r"
    }
   },
   "outputs": [],
   "source": [
    "# Format cell info\n",
    "cellinfo <- data.frame(row.names=barcodes, cells=barcodes)"
   ]
  },
  {
   "cell_type": "code",
   "execution_count": 15,
   "metadata": {
    "vscode": {
     "languageId": "r"
    }
   },
   "outputs": [],
   "source": [
    "# Format peak info\n",
    "peaks <- gsub(\":\", \"-\", peaks)\n",
    "peakinfo <- data.frame(row.names=peaks, site_name=peaks)\n",
    "peakinfo <- tidyr::separate(data = peakinfo, col = 'site_name', into = c(\"chr\", \"bp1\", \"bp2\"), sep = \"-\", remove=FALSE)"
   ]
  },
  {
   "cell_type": "code",
   "execution_count": 17,
   "metadata": {
    "vscode": {
     "languageId": "r"
    }
   },
   "outputs": [],
   "source": [
    "# Add names\n",
    "row.names(indata) <- row.names(peakinfo)\n",
    "colnames(indata) <- row.names(cellinfo)"
   ]
  },
  {
   "cell_type": "code",
   "execution_count": 18,
   "metadata": {
    "vscode": {
     "languageId": "r"
    }
   },
   "outputs": [],
   "source": [
    "# Make CDS\n",
    "input_cds <-  suppressWarnings(new_cell_data_set(indata,\n",
    "cell_metadata = cellinfo,\n",
    "gene_metadata = peakinfo))\n",
    "input_cds <- monocle3::detect_genes(input_cds)"
   ]
  },
  {
   "cell_type": "code",
   "execution_count": 19,
   "metadata": {
    "vscode": {
     "languageId": "r"
    }
   },
   "outputs": [],
   "source": [
    "# Data preprocessing\n",
    "set.seed(2017)\n",
    "input_cds <- estimate_size_factors(input_cds)\n",
    "input_cds <- preprocess_cds(input_cds, method = \"LSI\")"
   ]
  },
  {
   "cell_type": "code",
   "execution_count": null,
   "metadata": {
    "vscode": {
     "languageId": "r"
    }
   },
   "outputs": [],
   "source": [
    "# Dimensional reduction with umap\n",
    "input_cds <- reduce_dimension(input_cds, reduction_method = 'UMAP', \n",
    "                              preprocess_method = \"LSI\")\n",
    "umap_coords <- reducedDims(input_cds)$UMAP"
   ]
  },
  {
   "cell_type": "code",
   "execution_count": null,
   "metadata": {
    "vscode": {
     "languageId": "r"
    }
   },
   "outputs": [],
   "source": [
    "# Build cicero cds\n",
    "cicero_cds <- make_cicero_cds(input_cds, reduced_coordinates = umap_coords)"
   ]
  },
  {
   "attachments": {},
   "cell_type": "markdown",
   "metadata": {},
   "source": [
    "# DONE!"
   ]
  },
  {
   "attachments": {},
   "cell_type": "markdown",
   "metadata": {},
   "source": [
    "---"
   ]
  }
 ],
 "metadata": {
  "kernelspec": {
   "display_name": "R 4.2.0 test_celloracle",
   "language": "R",
   "name": "test_celloracle"
  },
  "language_info": {
   "codemirror_mode": "r",
   "file_extension": ".r",
   "mimetype": "text/x-r-source",
   "name": "R",
   "pygments_lexer": "r",
   "version": "4.2.0"
  },
  "orig_nbformat": 4
 },
 "nbformat": 4,
 "nbformat_minor": 2
}
