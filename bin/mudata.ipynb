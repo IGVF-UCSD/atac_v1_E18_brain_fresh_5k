{
 "cells": [
  {
   "cell_type": "code",
   "execution_count": 2,
   "metadata": {},
   "outputs": [],
   "source": [
    "# 0. Import\n",
    "\n",
    "import os\n",
    "import sys\n",
    "\n",
    "import matplotlib.pyplot as plt\n",
    "import numpy as np\n",
    "import pandas as pd\n",
    "import scanpy as sc\n",
    "import anndata as ad\n",
    "from scipy.io import mmread\n",
    "import muon as mu\n",
    "import seaborn as sns\n",
    "\n",
    "import celloracle as co\n",
    "co.__version__\n",
    "\n",
    "%matplotlib inline"
   ]
  },
  {
   "cell_type": "code",
   "execution_count": null,
   "metadata": {},
   "outputs": [],
   "source": [
    "#bed = pd.read_csv(\"/cellar/users/aklie/data/datasets/atac_v1_E18_brain_fresh_5k/processed/cellranger/filtered_peak_bc_matrix/peaks.bed.gz\", sep=\"\\t\", header=None)\n",
    "#bed.columns = [\"chr\", \"start\", \"end\"]\n",
    "#features = bed[\"chr\"] + \":\" + bed[\"start\"].astype(str) + \"-\" + bed[\"end\"].astype(str)\n",
    "#features.to_csv(\"/cellar/users/aklie/data/datasets/atac_v1_E18_brain_fresh_5k/processed/cellranger/filtered_peak_bc_matrix/features.tsv.gz\", sep=\"\\t\", header=False, index=False, compression=\"gzip\")"
   ]
  },
  {
   "cell_type": "code",
   "execution_count": 4,
   "metadata": {},
   "outputs": [
    {
     "data": {
      "text/plain": [
       "(87249, 5380)"
      ]
     },
     "execution_count": 4,
     "metadata": {},
     "output_type": "execute_result"
    }
   ],
   "source": [
    "# Read mtx\n",
    "mtx = mmread(\"/cellar/users/aklie/data/datasets/atac_v1_E18_brain_fresh_5k/processed/cellranger/filtered_peak_bc_matrix/matrix.mtx.gz\")\n",
    "mtx.shape"
   ]
  },
  {
   "cell_type": "code",
   "execution_count": 8,
   "metadata": {},
   "outputs": [],
   "source": [
    "# Read barcodes and peaks\n",
    "barcodes = pd.read_csv(\"/cellar/users/aklie/data/datasets/atac_v1_E18_brain_fresh_5k/processed/cellranger/filtered_peak_bc_matrix/barcodes.tsv.gz\", sep=\"\\t\", header=None, index_col=0)\n",
    "peaks = pd.read_csv(\"/cellar/users/aklie/data/datasets/atac_v1_E18_brain_fresh_5k/processed/cellranger/filtered_peak_bc_matrix/features.tsv.gz\", sep=\"\\t\", header=None, index_col=0)\n",
    "barcodes.index.name = None\n",
    "peaks.index.name = None"
   ]
  },
  {
   "cell_type": "code",
   "execution_count": 6,
   "metadata": {},
   "outputs": [],
   "source": [
    "# Binarize the matrix\n",
    "mtx.data = np.ones_like(mtx.data)"
   ]
  },
  {
   "cell_type": "code",
   "execution_count": 9,
   "metadata": {},
   "outputs": [
    {
     "data": {
      "text/plain": [
       "AnnData object with n_obs × n_vars = 5380 × 87249"
      ]
     },
     "execution_count": 9,
     "metadata": {},
     "output_type": "execute_result"
    }
   ],
   "source": [
    "# Make AnnData object\n",
    "atac = ad.AnnData(X=mtx.T.tocsr(), obs=barcodes, var=peaks)\n",
    "atac"
   ]
  },
  {
   "cell_type": "code",
   "execution_count": 11,
   "metadata": {},
   "outputs": [
    {
     "data": {
      "text/plain": [
       "AnnData object with n_obs × n_vars = 5380 × 87249"
      ]
     },
     "execution_count": 11,
     "metadata": {},
     "output_type": "execute_result"
    }
   ],
   "source": [
    "# Ensure there are no peaks included with zero reads\n",
    "atac = atac[atac.X.sum(axis=1) > 0, :].copy()\n",
    "atac"
   ]
  },
  {
   "cell_type": "code",
   "execution_count": 12,
   "metadata": {},
   "outputs": [
    {
     "data": {
      "image/png": "[encoded data removed]",
      "text/plain": [
       "<Figure size 640x480 with 1 Axes>"
      ]
     },
     "metadata": {},
     "output_type": "display_data"
    }
   ],
   "source": [
    "# Visualize peak_count_per_cell\n",
    "plt.hist(atac.X.sum(axis=1), bins=25);"
   ]
  },
  {
   "cell_type": "code",
   "execution_count": 13,
   "metadata": {},
   "outputs": [
    {
     "data": {
      "text/plain": [
       "AnnData object with n_obs × n_vars = 3609 × 87249\n",
       "    obs: 'n_counts'"
      ]
     },
     "execution_count": 13,
     "metadata": {},
     "output_type": "execute_result"
    }
   ],
   "source": [
    "# Filter cells by peak count\n",
    "max_count = 15000\n",
    "min_count = 2000\n",
    "sc.pp.filter_cells(atac, min_counts=min_count)\n",
    "sc.pp.filter_cells(atac, max_counts=max_count)\n",
    "atac"
   ]
  },
  {
   "cell_type": "code",
   "execution_count": 14,
   "metadata": {},
   "outputs": [
    {
     "data": {
      "image/png": "[encoded data removed]",
      "text/plain": [
       "<Figure size 640x480 with 1 Axes>"
      ]
     },
     "metadata": {},
     "output_type": "display_data"
    }
   ],
   "source": [
    "# Visualize peak_count_per_cell\n",
    "plt.hist(atac.X.sum(axis=1), bins=25);"
   ]
  },
  {
   "cell_type": "code",
   "execution_count": 15,
   "metadata": {},
   "outputs": [],
   "source": [
    "atac.layers[\"counts\"] = atac.X.copy()"
   ]
  },
  {
   "cell_type": "code",
   "execution_count": 16,
   "metadata": {},
   "outputs": [],
   "source": [
    "mdata = mu.MuData(\n",
    "    {\"atac\": atac}\n",
    ")"
   ]
  },
  {
   "cell_type": "code",
   "execution_count": 17,
   "metadata": {},
   "outputs": [
    {
     "data": {
      "text/html": [
       "<pre>MuData object with n_obs × n_vars = 3609 × 87249\n",
       "  1 modality\n",
       "    atac:\t3609 x 87249\n",
       "      obs:\t&#x27;n_counts&#x27;\n",
       "      layers:\t&#x27;counts&#x27;</pre>"
      ],
      "text/plain": [
       "MuData object with n_obs × n_vars = 3609 × 87249\n",
       "  1 modality\n",
       "    atac:\t3609 x 87249\n",
       "      obs:\t'n_counts'\n",
       "      layers:\t'counts'"
      ]
     },
     "execution_count": 17,
     "metadata": {},
     "output_type": "execute_result"
    }
   ],
   "source": [
    "mdata"
   ]
  },
  {
   "cell_type": "code",
   "execution_count": 18,
   "metadata": {},
   "outputs": [],
   "source": [
    "mdata.write(\"/cellar/users/aklie/data/datasets/atac_v1_E18_brain_fresh_5k/analysis/celloracle/mdata.h5mu\")"
   ]
  },
  {
   "cell_type": "code",
   "execution_count": 20,
   "metadata": {},
   "outputs": [],
   "source": [
    "mu.read_h5mu(\"/cellar/users/aklie/data/datasets/neurips2021_small/small.h5mu\").mod[\"atac\"].var.index.name"
   ]
  },
  {
   "cell_type": "markdown",
   "metadata": {},
   "source": [
    "# DONE!"
   ]
  },
  {
   "cell_type": "markdown",
   "metadata": {},
   "source": [
    "---"
   ]
  }
 ],
 "metadata": {
  "kernelspec": {
   "display_name": "Python 3.10 test_celloracle",
   "language": "python",
   "name": "test_scenicplus-py310"
  }
 },
 "nbformat": 4,
 "nbformat_minor": 2
}
