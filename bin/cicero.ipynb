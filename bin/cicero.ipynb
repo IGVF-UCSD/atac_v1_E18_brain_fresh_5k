{
 "cells": [
  {
   "cell_type": "code",
   "execution_count": 1,
   "metadata": {
    "vscode": {
     "languageId": "r"
    }
   },
   "outputs": [
    {
     "name": "stderr",
     "output_type": "stream",
     "text": [
      "Loading required package: monocle3\n",
      "\n",
      "Warning message:\n",
      "“package ‘monocle3’ was built under R version 4.2.1”\n",
      "Warning message:\n",
      "“package ‘monocle3’ was built under R version 4.2.1”\n",
      "Loading required package: Biobase\n",
      "\n",
      "Warning message:\n",
      "“package ‘Biobase’ was built under R version 4.2.3”\n",
      "Loading required package: BiocGenerics\n",
      "\n",
      "Warning message:\n",
      "“package ‘BiocGenerics’ was built under R version 4.2.1”\n",
      "\n",
      "Attaching package: ‘BiocGenerics’\n",
      "\n",
      "\n",
      "The following objects are masked from ‘package:stats’:\n",
      "\n",
      "    IQR, mad, sd, var, xtabs\n",
      "\n",
      "\n",
      "The following objects are masked from ‘package:base’:\n",
      "\n",
      "    anyDuplicated, aperm, append, as.data.frame, basename, cbind,\n",
      "    colnames, dirname, do.call, duplicated, eval, evalq, Filter, Find,\n",
      "    get, grep, grepl, intersect, is.unsorted, lapply, Map, mapply,\n",
      "    match, mget, order, paste, pmax, pmax.int, pmin, pmin.int,\n",
      "    Position, rank, rbind, Reduce, rownames, sapply, setdiff, sort,\n",
      "    table, tapply, union, unique, unsplit, which.max, which.min\n",
      "\n",
      "\n",
      "Welcome to Bioconductor\n",
      "\n",
      "    Vignettes contain introductory material; view with\n",
      "    'browseVignettes()'. To cite Bioconductor, see\n",
      "    'citation(\"Biobase\")', and for packages 'citation(\"pkgname\")'.\n",
      "\n",
      "\n",
      "Loading required package: SingleCellExperiment\n",
      "\n",
      "Warning message:\n",
      "“package ‘SingleCellExperiment’ was built under R version 4.2.2”\n",
      "Loading required package: SummarizedExperiment\n",
      "\n",
      "Warning message:\n",
      "“package ‘SummarizedExperiment’ was built under R version 4.2.2”\n",
      "Loading required package: MatrixGenerics\n",
      "\n",
      "Warning message:\n",
      "“package ‘MatrixGenerics’ was built under R version 4.2.1”\n",
      "Loading required package: matrixStats\n",
      "\n",
      "Warning message:\n",
      "“package ‘matrixStats’ was built under R version 4.2.3”\n",
      "\n",
      "Attaching package: ‘matrixStats’\n",
      "\n",
      "\n",
      "The following objects are masked from ‘package:Biobase’:\n",
      "\n",
      "    anyMissing, rowMedians\n",
      "\n",
      "\n",
      "\n",
      "Attaching package: ‘MatrixGenerics’\n",
      "\n",
      "\n",
      "The following objects are masked from ‘package:matrixStats’:\n",
      "\n",
      "    colAlls, colAnyNAs, colAnys, colAvgsPerRowSet, colCollapse,\n",
      "    colCounts, colCummaxs, colCummins, colCumprods, colCumsums,\n",
      "    colDiffs, colIQRDiffs, colIQRs, colLogSumExps, colMadDiffs,\n",
      "    colMads, colMaxs, colMeans2, colMedians, colMins, colOrderStats,\n",
      "    colProds, colQuantiles, colRanges, colRanks, colSdDiffs, colSds,\n",
      "    colSums2, colTabulates, colVarDiffs, colVars, colWeightedMads,\n",
      "    colWeightedMeans, colWeightedMedians, colWeightedSds,\n",
      "    colWeightedVars, rowAlls, rowAnyNAs, rowAnys, rowAvgsPerColSet,\n",
      "    rowCollapse, rowCounts, rowCummaxs, rowCummins, rowCumprods,\n",
      "    rowCumsums, rowDiffs, rowIQRDiffs, rowIQRs, rowLogSumExps,\n",
      "    rowMadDiffs, rowMads, rowMaxs, rowMeans2, rowMedians, rowMins,\n",
      "    rowOrderStats, rowProds, rowQuantiles, rowRanges, rowRanks,\n",
      "    rowSdDiffs, rowSds, rowSums2, rowTabulates, rowVarDiffs, rowVars,\n",
      "    rowWeightedMads, rowWeightedMeans, rowWeightedMedians,\n",
      "    rowWeightedSds, rowWeightedVars\n",
      "\n",
      "\n",
      "The following object is masked from ‘package:Biobase’:\n",
      "\n",
      "    rowMedians\n",
      "\n",
      "\n",
      "Loading required package: GenomicRanges\n",
      "\n",
      "Warning message:\n",
      "“package ‘GenomicRanges’ was built under R version 4.2.3”\n",
      "Loading required package: stats4\n",
      "\n",
      "Loading required package: S4Vectors\n",
      "\n",
      "Warning message:\n",
      "“package ‘S4Vectors’ was built under R version 4.2.3”\n",
      "\n",
      "Attaching package: ‘S4Vectors’\n",
      "\n",
      "\n",
      "The following objects are masked from ‘package:base’:\n",
      "\n",
      "    expand.grid, I, unname\n",
      "\n",
      "\n",
      "Loading required package: IRanges\n",
      "\n",
      "Warning message:\n",
      "“package ‘IRanges’ was built under R version 4.2.3”\n",
      "Loading required package: GenomeInfoDb\n",
      "\n",
      "Warning message:\n",
      "“package ‘GenomeInfoDb’ was built under R version 4.2.3”\n",
      "\n",
      "Attaching package: ‘monocle3’\n",
      "\n",
      "\n",
      "The following objects are masked from ‘package:Biobase’:\n",
      "\n",
      "    exprs, fData, fData<-, pData, pData<-\n",
      "\n",
      "\n",
      "Loading required package: Gviz\n",
      "\n",
      "Warning message:\n",
      "“package ‘Gviz’ was built under R version 4.2.2”\n",
      "Loading required package: grid\n",
      "\n"
     ]
    }
   ],
   "source": [
    "library(cicero)\n",
    "library(monocle3)"
   ]
  },
  {
   "cell_type": "code",
   "execution_count": 17,
   "metadata": {
    "vscode": {
     "languageId": "r"
    }
   },
   "outputs": [],
   "source": [
    "data_folder <- \"/cellar/users/aklie/data/datasets/atac_v1_E18_brain_fresh_5k/processed/cellranger/filtered_peak_bc_matrix\"\n",
    "output_folder <- \"/cellar/users/aklie/data/datasets/atac_v1_E18_brain_fresh_5k/analysis/celloracle/tutorial/inferred\"\n",
    "chromosome_length <- read.table(\"/cellar/users/aklie/tmp/gene_program_evaluation/mm10/mm10.fa.sizes\")"
   ]
  },
  {
   "cell_type": "code",
   "execution_count": 3,
   "metadata": {
    "vscode": {
     "languageId": "r"
    }
   },
   "outputs": [
    {
     "name": "stderr",
     "output_type": "stream",
     "text": [
      "'as(<dgTMatrix>, \"dgCMatrix\")' is deprecated.\n",
      "Use 'as(., \"CsparseMatrix\")' instead.\n",
      "See help(\"Deprecated\") and help(\"Matrix-deprecated\").\n",
      "\n"
     ]
    }
   ],
   "source": [
    "# Read in matrix data using the Matrix package\n",
    "indata <- Matrix::readMM(paste0(data_folder, \"/matrix.mtx\"))\n",
    "\n",
    "# Binarize the matrix\n",
    "indata@x[indata@x > 0] <- 1\n",
    "\n",
    "# Format cell info\n",
    "cellinfo <- read.table(paste0(data_folder, \"/barcodes.tsv\"))\n",
    "row.names(cellinfo) <- cellinfo$V1\n",
    "names(cellinfo) <- \"cells\"\n",
    "\n",
    "# Format peak info\n",
    "peakinfo <- read.table(paste0(data_folder, \"/peaks.bed\"))\n",
    "names(peakinfo) <- c(\"chr\", \"bp1\", \"bp2\")\n",
    "peakinfo$site_name <- paste(peakinfo$chr, peakinfo$bp1, peakinfo$bp2, sep=\"_\")\n",
    "row.names(peakinfo) <- peakinfo$site_name\n",
    "row.names(indata) <- row.names(peakinfo)\n",
    "colnames(indata) <- row.names(cellinfo)\n",
    "\n",
    "# Make CDS\n",
    "input_cds <-  suppressWarnings(new_cell_data_set(indata,\n",
    "cell_metadata = cellinfo,\n",
    "gene_metadata = peakinfo))\n",
    "\n",
    "input_cds <- monocle3::detect_genes(input_cds)\n",
    "\n",
    "#Ensure there are no peaks included with zero reads\n",
    "input_cds <- input_cds[Matrix::rowSums(exprs(input_cds)) != 0,]"
   ]
  },
  {
   "cell_type": "code",
   "execution_count": 4,
   "metadata": {
    "vscode": {
     "languageId": "r"
    }
   },
   "outputs": [
    {
     "data": {
      "image/png": "[encoded data removed]",
      "text/plain": [
       "Plot with title \"Histogram of Matrix::colSums(exprs(input_cds))\""
      ]
     },
     "metadata": {
      "image/png": {
       "height": 420,
       "width": 420
      }
     },
     "output_type": "display_data"
    }
   ],
   "source": [
    "# Visualize peak_count_per_cell\n",
    "hist(Matrix::colSums(exprs(input_cds)))"
   ]
  },
  {
   "cell_type": "code",
   "execution_count": 5,
   "metadata": {
    "vscode": {
     "languageId": "r"
    }
   },
   "outputs": [],
   "source": [
    "# Filter cells by peak_count\n",
    "max_count <-  15000\n",
    "min_count <- 2000\n",
    "input_cds <- input_cds[,Matrix::colSums(exprs(input_cds)) >= min_count]\n",
    "input_cds <- input_cds[,Matrix::colSums(exprs(input_cds)) <= max_count]"
   ]
  },
  {
   "cell_type": "code",
   "execution_count": 6,
   "metadata": {
    "vscode": {
     "languageId": "r"
    }
   },
   "outputs": [
    {
     "data": {
      "image/png": "[encoded data removed]",
      "text/plain": [
       "Plot with title \"Histogram of Matrix::colSums(exprs(input_cds))\""
      ]
     },
     "metadata": {
      "image/png": {
       "height": 420,
       "width": 420
      }
     },
     "output_type": "display_data"
    }
   ],
   "source": [
    "# Visualize peak_count_per_cell\n",
    "hist(Matrix::colSums(exprs(input_cds)))"
   ]
  },
  {
   "cell_type": "code",
   "execution_count": 8,
   "metadata": {
    "vscode": {
     "languageId": "r"
    }
   },
   "outputs": [
    {
     "name": "stderr",
     "output_type": "stream",
     "text": [
      "Overlap QC metrics:\n",
      "Cells per bin: 50\n",
      "Maximum shared cells bin-bin: 44\n",
      "Mean shared cells bin-bin: 0.828023724388444\n",
      "Median shared cells bin-bin: 0\n",
      "\n"
     ]
    }
   ],
   "source": [
    "# Data preprocessing\n",
    "set.seed(2017)\n",
    "\n",
    "# Preprocess the data\n",
    "input_cds <- detect_genes(input_cds)\n",
    "input_cds <- estimate_size_factors(input_cds)\n",
    "input_cds <- preprocess_cds(input_cds, method = \"LSI\")\n",
    "\n",
    "# Dimensional reduction with umap\n",
    "input_cds <- reduce_dimension(input_cds, reduction_method = 'UMAP',\n",
    "                              preprocess_method = \"LSI\")\n",
    "umap_coords <- reducedDims(input_cds)$UMAP\n",
    "\n",
    "# Make cicero cds\n",
    "cicero_cds <- make_cicero_cds(input_cds, reduced_coordinates = umap_coords)"
   ]
  },
  {
   "cell_type": "code",
   "execution_count": 10,
   "metadata": {
    "vscode": {
     "languageId": "r"
    }
   },
   "outputs": [],
   "source": [
    "# Run the main function\n",
    "conns <- run_cicero(cicero_cds, chromosome_length) # Takes a few minutes to run\n",
    "\n",
    "# Check results\n",
    "head(conns)"
   ]
  },
  {
   "cell_type": "code",
   "execution_count": 18,
   "metadata": {
    "vscode": {
     "languageId": "r"
    }
   },
   "outputs": [],
   "source": [
    "# Save csvs\n",
    "all_peaks <- row.names(exprs(input_cds))\n",
    "write.csv(x = all_peaks, file = paste0(output_folder, \"/all_peaks.csv\"))\n",
    "write.csv(x = conns, file = paste0(output_folder, \"/cicero_connections.csv\"))"
   ]
  },
  {
   "cell_type": "code",
   "execution_count": 21,
   "metadata": {
    "vscode": {
     "languageId": "r"
    }
   },
   "outputs": [],
   "source": [
    "# Save CDS\n",
    "saveRDS(cicero_cds, paste0(output_folder, \"/cicero_cds.Rds\"))"
   ]
  },
  {
   "cell_type": "code",
   "execution_count": 22,
   "metadata": {
    "vscode": {
     "languageId": "r"
    }
   },
   "outputs": [
    {
     "data": {
      "text/html": [
       "<table class=\"dataframe\">\n",
       "<caption>A data.frame: 6 × 3</caption>\n",
       "<thead>\n",
       "\t<tr><th></th><th scope=col>Peak1</th><th scope=col>Peak2</th><th scope=col>coaccess</th></tr>\n",
       "\t<tr><th></th><th scope=col>&lt;chr&gt;</th><th scope=col>&lt;fct&gt;</th><th scope=col>&lt;dbl&gt;</th></tr>\n",
       "</thead>\n",
       "<tbody>\n",
       "\t<tr><th scope=row>1</th><td>chr10_100006139_100006389</td><td>chr10_99774288_99774570  </td><td>-0.003923920</td></tr>\n",
       "\t<tr><th scope=row>2</th><td>chr10_100006139_100006389</td><td>chr10_99825945_99826237  </td><td>-0.024811034</td></tr>\n",
       "\t<tr><th scope=row>3</th><td>chr10_100006139_100006389</td><td>chr10_99830012_99830311  </td><td> 0.006070376</td></tr>\n",
       "\t<tr><th scope=row>4</th><td>chr10_100006139_100006389</td><td>chr10_99833211_99833540  </td><td>-0.008155523</td></tr>\n",
       "\t<tr><th scope=row>5</th><td>chr10_100006139_100006389</td><td>chr10_99941805_99941955  </td><td> 0.000000000</td></tr>\n",
       "\t<tr><th scope=row>7</th><td>chr10_100006139_100006389</td><td>chr10_100015291_100017830</td><td>-0.010579116</td></tr>\n",
       "</tbody>\n",
       "</table>\n"
      ],
      "text/latex": [
       "A data.frame: 6 × 3\n",
       "\\begin{tabular}{r|lll}\n",
       "  & Peak1 & Peak2 & coaccess\\\\\n",
       "  & <chr> & <fct> & <dbl>\\\\\n",
       "\\hline\n",
       "\t1 & chr10\\_100006139\\_100006389 & chr10\\_99774288\\_99774570   & -0.003923920\\\\\n",
       "\t2 & chr10\\_100006139\\_100006389 & chr10\\_99825945\\_99826237   & -0.024811034\\\\\n",
       "\t3 & chr10\\_100006139\\_100006389 & chr10\\_99830012\\_99830311   &  0.006070376\\\\\n",
       "\t4 & chr10\\_100006139\\_100006389 & chr10\\_99833211\\_99833540   & -0.008155523\\\\\n",
       "\t5 & chr10\\_100006139\\_100006389 & chr10\\_99941805\\_99941955   &  0.000000000\\\\\n",
       "\t7 & chr10\\_100006139\\_100006389 & chr10\\_100015291\\_100017830 & -0.010579116\\\\\n",
       "\\end{tabular}\n"
      ],
      "text/markdown": [
       "\n",
       "A data.frame: 6 × 3\n",
       "\n",
       "| <!--/--> | Peak1 &lt;chr&gt; | Peak2 &lt;fct&gt; | coaccess &lt;dbl&gt; |\n",
       "|---|---|---|---|\n",
       "| 1 | chr10_100006139_100006389 | chr10_99774288_99774570   | -0.003923920 |\n",
       "| 2 | chr10_100006139_100006389 | chr10_99825945_99826237   | -0.024811034 |\n",
       "| 3 | chr10_100006139_100006389 | chr10_99830012_99830311   |  0.006070376 |\n",
       "| 4 | chr10_100006139_100006389 | chr10_99833211_99833540   | -0.008155523 |\n",
       "| 5 | chr10_100006139_100006389 | chr10_99941805_99941955   |  0.000000000 |\n",
       "| 7 | chr10_100006139_100006389 | chr10_100015291_100017830 | -0.010579116 |\n",
       "\n"
      ],
      "text/plain": [
       "  Peak1                     Peak2                     coaccess    \n",
       "1 chr10_100006139_100006389 chr10_99774288_99774570   -0.003923920\n",
       "2 chr10_100006139_100006389 chr10_99825945_99826237   -0.024811034\n",
       "3 chr10_100006139_100006389 chr10_99830012_99830311    0.006070376\n",
       "4 chr10_100006139_100006389 chr10_99833211_99833540   -0.008155523\n",
       "5 chr10_100006139_100006389 chr10_99941805_99941955    0.000000000\n",
       "7 chr10_100006139_100006389 chr10_100015291_100017830 -0.010579116"
      ]
     },
     "metadata": {},
     "output_type": "display_data"
    }
   ],
   "source": [
    "head(conns)"
   ]
  },
  {
   "cell_type": "markdown",
   "metadata": {
    "vscode": {
     "languageId": "r"
    }
   },
   "source": [
    "# DONE!"
   ]
  },
  {
   "cell_type": "markdown",
   "metadata": {},
   "source": [
    "---"
   ]
  }
 ],
 "metadata": {
  "kernelspec": {
   "display_name": "R 4.2.0 test_celloracle",
   "language": "R",
   "name": "test_celloracle"
  },
  "language_info": {
   "codemirror_mode": "r",
   "file_extension": ".r",
   "mimetype": "text/x-r-source",
   "name": "R",
   "pygments_lexer": "r",
   "version": "4.2.0"
  }
 },
 "nbformat": 4,
 "nbformat_minor": 2
}
